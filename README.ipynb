{
 "cells": [
  {
   "cell_type": "markdown",
   "id": "0c9136ea-33e0-446d-98ca-a6fbe2f2ae5a",
   "metadata": {},
   "source": [
    "📄 README.md Content (for all 5 tasks)\n",
    "markdown\n",
    "Copy\n",
    "Edit\n",
    "# 📊 Data Science & Analytics Internship Tasks – DevelopersHub Corporation\n",
    "\n",
    "This repository contains solutions to the five tasks assigned as part of the Data Science & Analytics Internship at DevelopersHub Corporation. Each task demonstrates essential skills in data analysis, visualization, machine learning, and evaluation using Python, pandas, seaborn, and scikit-learn.\n",
    "\n",
    "---\n",
    "\n",
    "## ✅ Tasks Overview\n",
    "\n",
    "### 🔹 Task 1: Exploring and Visualizing a Simple Dataset\n",
    "- Dataset: Iris dataset\n",
    "- Tools: pandas, seaborn, matplotlib\n",
    "- Skills: Data loading, summary statistics, scatter plot, histogram, box plot\n",
    "\n",
    "### 🔹 Task 2: Credit Risk Prediction\n",
    "- Dataset: Simulated loan dataset (`loan_prediction.csv`)\n",
    "- Objective: Predict risk using logistic regression with a simulated target\n",
    "- Skills: Data cleaning, EDA, feature encoding, binary classification, model evaluation\n",
    "\n",
    "### 🔹 Task 3: Customer Churn Prediction (Bank Customers)\n",
    "- Dataset: Churn Modelling Dataset\n",
    "- Objective: Predict which bank customers are likely to leave\n",
    "- Skills: Categorical encoding, classification modeling, feature importance analysis\n",
    "\n",
    "### 🔹 Task 4: Predicting Insurance Claim Amounts\n",
    "- Dataset: Medical Cost Personal Dataset\n",
    "- Objective: Predict insurance charges using linear regression\n",
    "- Skills: Regression modeling, correlation analysis, MAE/RMSE evaluation\n",
    "\n",
    "### 🔹 Task 5: Personal Loan Acceptance Prediction\n",
    "- Dataset: Bank Marketing Dataset (`bank-full.csv`)\n",
    "- Objective: Predict likelihood of accepting a personal loan offer\n",
    "- Skills: Data exploration, one-hot encoding, logistic regression, business insight extraction\n"
   ]
  },
  {
   "cell_type": "code",
   "execution_count": null,
   "id": "07c20beb-bada-4a74-8885-bac14fe4b795",
   "metadata": {},
   "outputs": [],
   "source": []
  }
 ],
 "metadata": {
  "kernelspec": {
   "display_name": "Python 3 (ipykernel)",
   "language": "python",
   "name": "python3"
  },
  "language_info": {
   "codemirror_mode": {
    "name": "ipython",
    "version": 3
   },
   "file_extension": ".py",
   "mimetype": "text/x-python",
   "name": "python",
   "nbconvert_exporter": "python",
   "pygments_lexer": "ipython3",
   "version": "3.11.7"
  }
 },
 "nbformat": 4,
 "nbformat_minor": 5
}
